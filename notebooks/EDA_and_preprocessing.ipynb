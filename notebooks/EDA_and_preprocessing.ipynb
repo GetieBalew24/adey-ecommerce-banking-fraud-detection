{
 "cells": [
  {
   "cell_type": "markdown",
   "metadata": {},
   "source": [
    "# Task 1 - Data Analysis and Preprocessing"
   ]
  },
  {
   "cell_type": "markdown",
   "metadata": {},
   "source": [
    "### Load and Explore the data\n",
    "- Import liberaries\n",
    "- Load datasets\n",
    "- Understand the feature `Fraud_data`, `ipaddress_to_country` and `creditcard`"
   ]
  },
  {
   "cell_type": "code",
   "execution_count": 1,
   "metadata": {},
   "outputs": [],
   "source": [
    "# Directory Setup and Warning Suppression in Python Script\n",
    "import os\n",
    "import sys\n",
    "import pandas as pd \n",
    "import socket\n",
    "import struct\n",
    "\n",
    "current_dir = os.getcwd()\n",
    "# Append the parent directory to sys.path\n",
    "parent_dir = os.path.dirname(current_dir)\n",
    "sys.path.append(parent_dir)\n",
    "\n",
    "from warnings import filterwarnings\n",
    "filterwarnings('ignore')"
   ]
  },
  {
   "cell_type": "code",
   "execution_count": 2,
   "metadata": {},
   "outputs": [],
   "source": [
    "# Import data preprocessing and visualization classes for use in the project.\n",
    "from scripts.data_preprocessing import DataPreprocessor"
   ]
  },
  {
   "cell_type": "markdown",
   "metadata": {},
   "source": [
    "##### File Paths for Datasets\n",
    "This section defines the file paths for various datasets used in the project."
   ]
  },
  {
   "cell_type": "code",
   "execution_count": 3,
   "metadata": {},
   "outputs": [],
   "source": [
    "# Define file paths for various datasets used in the project.\n",
    "fraud_file_path = \"../data/Fraud_Data.csv\"\n",
    "ipaddress_file_path = \"../data/IpAddress_to_Country.csv\"\n",
    "creditcard_file_path = \"../data/creditcard.csv\""
   ]
  },
  {
   "cell_type": "markdown",
   "metadata": {},
   "source": [
    "### Initialize the DataPreprocessor"
   ]
  },
  {
   "cell_type": "code",
   "execution_count": 4,
   "metadata": {},
   "outputs": [],
   "source": [
    "# Initialize the DataPreprocessor with specified file paths for datasets.\n",
    "processor = DataPreprocessor(fraud_file_path, ipaddress_file_path, creditcard_file_path)"
   ]
  },
  {
   "cell_type": "markdown",
   "metadata": {},
   "source": [
    "#### Load datasets"
   ]
  },
  {
   "cell_type": "code",
   "execution_count": 5,
   "metadata": {},
   "outputs": [
    {
     "name": "stderr",
     "output_type": "stream",
     "text": [
      "2025-02-06 22:26:06,562 - INFO - Data loaded successfully!\n"
     ]
    }
   ],
   "source": [
    "# Load datasets using the DataPreprocessor instance.\n",
    "fraud_data, ipaddress_data, creditcard_data = processor.load_data()"
   ]
  },
  {
   "cell_type": "code",
   "execution_count": null,
   "metadata": {},
   "outputs": [],
   "source": []
  }
 ],
 "metadata": {
  "kernelspec": {
   "display_name": "venv",
   "language": "python",
   "name": "python3"
  },
  "language_info": {
   "codemirror_mode": {
    "name": "ipython",
    "version": 3
   },
   "file_extension": ".py",
   "mimetype": "text/x-python",
   "name": "python",
   "nbconvert_exporter": "python",
   "pygments_lexer": "ipython3",
   "version": "3.12.3"
  }
 },
 "nbformat": 4,
 "nbformat_minor": 2
}
